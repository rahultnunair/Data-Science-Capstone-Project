{
    "cells": [
        {
            "cell_type": "markdown",
            "metadata": {
                "collapsed": true
            },
            "source": "# The Battle of Neighborhoods | Business Proposal | Introduction\n\n### Introduction:\n\n#### The Economist Intelligence Unit ranked Calgary the most livable city in North America in both 2018 and 2019. Calgary has been a top 5 contender for this title for the last 10 years. Calgary was also ranked the best city in the world for drivers in 2019. \n\nCalgary's economy includes activity in the energy, financial services, film and television, transportation and logistics, technology, manufacturing, aerospace, health and wellness, retail, and tourism sectors.The Calgary Metropolitan Region is home to Canada's second-highest number of corporate head offices among the country's 800 largest corporations.In 2015 Calgary had the highest number of millionaires per capita of any major Canadian city. In 1988 it became the first Canadian city to host the Winter Olympic Games.\n\nGiven the diverse socio-economic and demographic nature of the city, starting a restuarant here might be a proposition that several business owners might consider. And what if, It is a Japanese Sushi restaurant?\n\nKeep this hypothetical customer job in mind, the objective of the project is to determine the right places to start a Sushi restaurant. \n\nThe outcomes of this project will serve as a useful analysis for business owners seeking to open up a new Sushi restaurant in Calgary.\n\n\n### Problem Which Tried to Solve:\n#### The major purpose of this project, is to suggest a the best neighborhood in a the city of Calgary to start a Japanese Sushi Resuarautm \n\n\n### Foursquare API:\n#### This project would use Four-square API as its prime data gathering source as it has a database of millions of places, especially their places API which provides the ability to perform location search, location sharing and details about a business.\n\n### Work Flow:\n#### Using credentials of Foursquare API features of near-by places of the neighborhoods would be mined. Due to http request limitations the number of places per neighborhood parameter would reasonably be set to 100 and the radius parameter would be set to 500.\n\n### Clustering Approach:\n#### To compare the similarities of two cities, we decided to explore neighborhoods, segment them, and group them into clusters to find similar neighborhoods in a big city like New York and Toronto. To be able to do that, we need to cluster data which is a form of unsupervised machine learning: k-means clustering algorithm\n\n### Libraries Which are Used to Develope the Project:\n#### Pandas: For creating and manipulating dataframes.\n#### Folium: Python visualization library would be used to visualize the neighborhoods cluster distribution of using interactive leaflet map.\n#### Scikit Learn: For importing k-means clustering.\n#### JSON: Library to handle JSON files.\n#### XML: To separate data from presentation and XML stores data in plain text format.\n#### Geocoder: To retrieve Location Data.\n#### Beautiful Soup and Requests: To scrap and library to handle http requests.\n\n#### Matplotlib: Python Plotting Module."
        }
    ],
    "metadata": {
        "kernelspec": {
            "display_name": "Python 3.7",
            "language": "python",
            "name": "python3"
        },
        "language_info": {
            "codemirror_mode": {
                "name": "ipython",
                "version": 3
            },
            "file_extension": ".py",
            "mimetype": "text/x-python",
            "name": "python",
            "nbconvert_exporter": "python",
            "pygments_lexer": "ipython3",
            "version": "3.7.10"
        }
    },
    "nbformat": 4,
    "nbformat_minor": 1
}