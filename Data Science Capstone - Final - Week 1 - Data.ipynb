{
    "cells": [
        {
            "cell_type": "markdown",
            "metadata": {
                "collapsed": true
            },
            "source": "# The Battle of Neighborhoods | Data Description\n\n\n## Data Description:\n\n### Data required and Data Acquisition \n#### 1. Neighborhood demographics\nThe analysis will require community demographics data. We will use two data sources to get these data. Pandas web scraper library will be used to get these publicly available data from the web.\n##### 1a. Neighborhood and area from Wikipedia\nhttps://en.wikipedia.org/wiki/List_of_neighbourhoods_in_Calgary\n \n##### 1b. Neighborhood and demographics data from great-news.ca\nhttps://great-news.ca/demographics/\n\n##### 1c. Geo data from Geocoder\nThe aanalysis will also require coordinates for each neighborhood to explore its venues using foursquare API. We will use geocoder library to get the coordinates for each neighborhood.\n  \n#### 2. Food venues in neighborhood\nWith the community dataset, we are ready to explore all the venues of a neighborhood using foursquare API. Since our goal is to identify a Sushi restaurant location, we will focus on the food venues within 1500m (a reasonable walking distance) of a community.\nTo set the section parameter for foursquare API, we will use keyword section=food and follow this:\nurl = 'https://api.foursquare.com/v2/venues/explore?&client_id={}&client_secret={}&v={}&ll={},{}&radius={}&section={} &limit={}'.format(CLIENT_ID, CLIENT_SECRET, VERSION, lat, lng, radius, SECTION,LIMIT)\n: https://en.wikipedia.org/wiki/List_of_neighbourhoods_in_Calgary\n\n\n### Foursquare API :\nWe will need to collect the community demographic data from the web and food venue data from foursquare API.\n\nWe will need data about different venues in different neighborhoods of that specific borough. In order to gain that information we will use \"Foursquare\" locational information. Foursquare is a location data provider with information about all manner of venues and events within an area of interest. Such information includes venue names, locations, menus and even photos. As such, the foursquare location platform will be used as the sole data source since all the stated required information can be obtained through the API.\n\nAfter finding the list of neighborhoods, we then connect to the Foursquare API to gather information about venues inside each and every neighborhood. For each neighborhood, we have chosen the radius to be 100 meter.\n\nThe data retrieved from Foursquare contained information of venues within a specified distance of the longitude and latitude of the postcodes. The information obtained per venue as follows:\n\n1. Neighborhood\n2. Neighborhood Latitude\n3. Neighborhood Longitude\n4. Venue\n5. Name of the venue e.g. the name of a store or restaurant\n6. Venue Latitude\n7. Venue Longitude\n8. Venue Category"
        },
        {
            "cell_type": "code",
            "execution_count": null,
            "metadata": {},
            "outputs": [],
            "source": ""
        }
    ],
    "metadata": {
        "kernelspec": {
            "display_name": "Python 3.7",
            "language": "python",
            "name": "python3"
        },
        "language_info": {
            "codemirror_mode": {
                "name": "ipython",
                "version": 3
            },
            "file_extension": ".py",
            "mimetype": "text/x-python",
            "name": "python",
            "nbconvert_exporter": "python",
            "pygments_lexer": "ipython3",
            "version": "3.7.10"
        }
    },
    "nbformat": 4,
    "nbformat_minor": 1
}